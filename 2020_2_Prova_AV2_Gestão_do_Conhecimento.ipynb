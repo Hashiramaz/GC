{
  "nbformat": 4,
  "nbformat_minor": 0,
  "metadata": {
    "kernelspec": {
      "display_name": "Python 3",
      "language": "python",
      "name": "python3"
    },
    "language_info": {
      "codemirror_mode": {
        "name": "ipython",
        "version": 3
      },
      "file_extension": ".py",
      "mimetype": "text/x-python",
      "name": "python",
      "nbconvert_exporter": "python",
      "pygments_lexer": "ipython3",
      "version": "3.7.2"
    },
    "colab": {
      "name": "2020_2_Prova_AV2_Gestão_do_Conhecimento.ipynb",
      "provenance": [],
      "collapsed_sections": [],
      "include_colab_link": true
    }
  },
  "cells": [
    {
      "cell_type": "markdown",
      "metadata": {
        "id": "view-in-github",
        "colab_type": "text"
      },
      "source": [
        "<a href=\"https://colab.research.google.com/github/Hashiramaz/GC/blob/main/2020_2_Prova_AV2_Gest%C3%A3o_do_Conhecimento.ipynb\" target=\"_parent\"><img src=\"https://colab.research.google.com/assets/colab-badge.svg\" alt=\"Open In Colab\"/></a>"
      ]
    },
    {
      "cell_type": "markdown",
      "metadata": {
        "id": "8e6IcCsJCxVz"
      },
      "source": [
        "DISCIPLINA: Gestão do Conhecimento\t PROFESSOR(A): Alex Salgado\n",
        "PERÍODO: 7o. TURNO: noite AVALIAÇÃO:\n",
        "\n",
        "ALUNO(A): VINICIUS NASCIMENTO\n",
        "\n",
        "GRAU: VISTO DO PROFESSOR:\n"
      ]
    },
    {
      "cell_type": "markdown",
      "metadata": {
        "id": "_3h1pahVCxV2"
      },
      "source": [
        "# Questão 1 - valor (0,0)\n"
      ]
    },
    {
      "cell_type": "markdown",
      "metadata": {
        "id": "A-cj5d2rCxV3"
      },
      "source": [
        "*** Crie um repositório no Github e adicione este arquivo no mesmo\n",
        "\n",
        "\n",
        "1.1 - Você deve escolher uma base de dados aberta que seja possível treinar um modelo de aprendizagem de máquina Supervisionado de Classificação (assim como o exemplo da Iris e Cancer). A partir desta base de dados, você vai treinar o modelo, fazer previsões e calcular a acurácia do mesmo.\n",
        "Obs.: Não utilizar nenhuma base de dados usada em aula,  nos trabalhos ou na biblioteca do sklearn.\n"
      ]
    },
    {
      "cell_type": "markdown",
      "metadata": {
        "id": "3P5uSWxsDb5r"
      },
      "source": [
        "1.1 - Descreva aqui o que sua base de dados guarda."
      ]
    },
    {
      "cell_type": "markdown",
      "metadata": {
        "id": "OTKFaGyQ7uSY"
      },
      "source": [
        "A base de dados guarda todos os atributos de batalha de todos os pokemnos de todas as gerações existentes"
      ]
    },
    {
      "cell_type": "markdown",
      "metadata": {
        "id": "a-D7KRIzCxV8"
      },
      "source": [
        "1.2 - Após tratada, criar uma pasta no seu GoogleDrive e disponibilizar o link do arquivo de sua base (csv, xlsx, etc) para ser importado no seu código."
      ]
    },
    {
      "cell_type": "markdown",
      "metadata": {
        "id": "sNcnydLQ7nzS"
      },
      "source": [
        "\n",
        "Base de dados upada no Github \n",
        "https://github.com/Hashiramaz/GC/raw/main/Pokemon.csv"
      ]
    },
    {
      "cell_type": "markdown",
      "metadata": {
        "id": "lvPXgDBDCxV_"
      },
      "source": [
        "## Criar um código usando o Jupyter Notebook e responder (através de código) às seguintes questões:\n"
      ]
    },
    {
      "cell_type": "markdown",
      "metadata": {
        "id": "LMkAEsOKCxWA"
      },
      "source": [
        "# Questão 2 - valor (0,5)"
      ]
    },
    {
      "cell_type": "markdown",
      "metadata": {
        "id": "yOSNQel0CxWA"
      },
      "source": [
        "2.1 - Importar os modulos python para machine learn e carregar o arquivo \n",
        "\n",
        "** Sugestão se for do tipo xlsx, usar o read_excel do pandas\n",
        "import pandas as pd\n",
        "dt = pd.read_excel(\"meuarquivo.xlsx\")\n"
      ]
    },
    {
      "cell_type": "code",
      "metadata": {
        "id": "zA6l-qg9CxWB"
      },
      "source": [
        "import pandas as pd\n",
        "import numpy as np\n",
        "import matplotlib.pyplot as plt\n",
        "% matplotlib inline\n",
        "plt.style.use('ggplot')\n",
        "\n",
        "df = pd.read_csv(\"https://github.com/Hashiramaz/GC/raw/main/Pokemon.csv\")"
      ],
      "execution_count": 2,
      "outputs": []
    },
    {
      "cell_type": "markdown",
      "metadata": {
        "id": "_NIYxnZnCxWD"
      },
      "source": [
        "2.2 - Exibir os primeiros registros desta tabela.\n"
      ]
    },
    {
      "cell_type": "code",
      "metadata": {
        "id": "owd5CVN9CxWE",
        "colab": {
          "base_uri": "https://localhost:8080/",
          "height": 359
        },
        "outputId": "271beb34-939a-4985-f7a1-4c72b7058e03"
      },
      "source": [
        "df.head(10)"
      ],
      "execution_count": 3,
      "outputs": [
        {
          "output_type": "execute_result",
          "data": {
            "text/html": [
              "<div>\n",
              "<style scoped>\n",
              "    .dataframe tbody tr th:only-of-type {\n",
              "        vertical-align: middle;\n",
              "    }\n",
              "\n",
              "    .dataframe tbody tr th {\n",
              "        vertical-align: top;\n",
              "    }\n",
              "\n",
              "    .dataframe thead th {\n",
              "        text-align: right;\n",
              "    }\n",
              "</style>\n",
              "<table border=\"1\" class=\"dataframe\">\n",
              "  <thead>\n",
              "    <tr style=\"text-align: right;\">\n",
              "      <th></th>\n",
              "      <th>#</th>\n",
              "      <th>Name</th>\n",
              "      <th>Type 1</th>\n",
              "      <th>Type 2</th>\n",
              "      <th>Total</th>\n",
              "      <th>HP</th>\n",
              "      <th>Attack</th>\n",
              "      <th>Defense</th>\n",
              "      <th>Sp. Atk</th>\n",
              "      <th>Sp. Def</th>\n",
              "      <th>Speed</th>\n",
              "      <th>Generation</th>\n",
              "      <th>Legendary</th>\n",
              "    </tr>\n",
              "  </thead>\n",
              "  <tbody>\n",
              "    <tr>\n",
              "      <th>0</th>\n",
              "      <td>1</td>\n",
              "      <td>Bulbasaur</td>\n",
              "      <td>Grass</td>\n",
              "      <td>Poison</td>\n",
              "      <td>318</td>\n",
              "      <td>45</td>\n",
              "      <td>49</td>\n",
              "      <td>49</td>\n",
              "      <td>65</td>\n",
              "      <td>65</td>\n",
              "      <td>45</td>\n",
              "      <td>1</td>\n",
              "      <td>False</td>\n",
              "    </tr>\n",
              "    <tr>\n",
              "      <th>1</th>\n",
              "      <td>2</td>\n",
              "      <td>Ivysaur</td>\n",
              "      <td>Grass</td>\n",
              "      <td>Poison</td>\n",
              "      <td>405</td>\n",
              "      <td>60</td>\n",
              "      <td>62</td>\n",
              "      <td>63</td>\n",
              "      <td>80</td>\n",
              "      <td>80</td>\n",
              "      <td>60</td>\n",
              "      <td>1</td>\n",
              "      <td>False</td>\n",
              "    </tr>\n",
              "    <tr>\n",
              "      <th>2</th>\n",
              "      <td>3</td>\n",
              "      <td>Venusaur</td>\n",
              "      <td>Grass</td>\n",
              "      <td>Poison</td>\n",
              "      <td>525</td>\n",
              "      <td>80</td>\n",
              "      <td>82</td>\n",
              "      <td>83</td>\n",
              "      <td>100</td>\n",
              "      <td>100</td>\n",
              "      <td>80</td>\n",
              "      <td>1</td>\n",
              "      <td>False</td>\n",
              "    </tr>\n",
              "    <tr>\n",
              "      <th>3</th>\n",
              "      <td>3</td>\n",
              "      <td>VenusaurMega Venusaur</td>\n",
              "      <td>Grass</td>\n",
              "      <td>Poison</td>\n",
              "      <td>625</td>\n",
              "      <td>80</td>\n",
              "      <td>100</td>\n",
              "      <td>123</td>\n",
              "      <td>122</td>\n",
              "      <td>120</td>\n",
              "      <td>80</td>\n",
              "      <td>1</td>\n",
              "      <td>False</td>\n",
              "    </tr>\n",
              "    <tr>\n",
              "      <th>4</th>\n",
              "      <td>4</td>\n",
              "      <td>Charmander</td>\n",
              "      <td>Fire</td>\n",
              "      <td>NaN</td>\n",
              "      <td>309</td>\n",
              "      <td>39</td>\n",
              "      <td>52</td>\n",
              "      <td>43</td>\n",
              "      <td>60</td>\n",
              "      <td>50</td>\n",
              "      <td>65</td>\n",
              "      <td>1</td>\n",
              "      <td>False</td>\n",
              "    </tr>\n",
              "    <tr>\n",
              "      <th>5</th>\n",
              "      <td>5</td>\n",
              "      <td>Charmeleon</td>\n",
              "      <td>Fire</td>\n",
              "      <td>NaN</td>\n",
              "      <td>405</td>\n",
              "      <td>58</td>\n",
              "      <td>64</td>\n",
              "      <td>58</td>\n",
              "      <td>80</td>\n",
              "      <td>65</td>\n",
              "      <td>80</td>\n",
              "      <td>1</td>\n",
              "      <td>False</td>\n",
              "    </tr>\n",
              "    <tr>\n",
              "      <th>6</th>\n",
              "      <td>6</td>\n",
              "      <td>Charizard</td>\n",
              "      <td>Fire</td>\n",
              "      <td>Flying</td>\n",
              "      <td>534</td>\n",
              "      <td>78</td>\n",
              "      <td>84</td>\n",
              "      <td>78</td>\n",
              "      <td>109</td>\n",
              "      <td>85</td>\n",
              "      <td>100</td>\n",
              "      <td>1</td>\n",
              "      <td>False</td>\n",
              "    </tr>\n",
              "    <tr>\n",
              "      <th>7</th>\n",
              "      <td>6</td>\n",
              "      <td>CharizardMega Charizard X</td>\n",
              "      <td>Fire</td>\n",
              "      <td>Dragon</td>\n",
              "      <td>634</td>\n",
              "      <td>78</td>\n",
              "      <td>130</td>\n",
              "      <td>111</td>\n",
              "      <td>130</td>\n",
              "      <td>85</td>\n",
              "      <td>100</td>\n",
              "      <td>1</td>\n",
              "      <td>False</td>\n",
              "    </tr>\n",
              "    <tr>\n",
              "      <th>8</th>\n",
              "      <td>6</td>\n",
              "      <td>CharizardMega Charizard Y</td>\n",
              "      <td>Fire</td>\n",
              "      <td>Flying</td>\n",
              "      <td>634</td>\n",
              "      <td>78</td>\n",
              "      <td>104</td>\n",
              "      <td>78</td>\n",
              "      <td>159</td>\n",
              "      <td>115</td>\n",
              "      <td>100</td>\n",
              "      <td>1</td>\n",
              "      <td>False</td>\n",
              "    </tr>\n",
              "    <tr>\n",
              "      <th>9</th>\n",
              "      <td>7</td>\n",
              "      <td>Squirtle</td>\n",
              "      <td>Water</td>\n",
              "      <td>NaN</td>\n",
              "      <td>314</td>\n",
              "      <td>44</td>\n",
              "      <td>48</td>\n",
              "      <td>65</td>\n",
              "      <td>50</td>\n",
              "      <td>64</td>\n",
              "      <td>43</td>\n",
              "      <td>1</td>\n",
              "      <td>False</td>\n",
              "    </tr>\n",
              "  </tbody>\n",
              "</table>\n",
              "</div>"
            ],
            "text/plain": [
              "   #                       Name Type 1  ... Speed  Generation  Legendary\n",
              "0  1                  Bulbasaur  Grass  ...    45           1      False\n",
              "1  2                    Ivysaur  Grass  ...    60           1      False\n",
              "2  3                   Venusaur  Grass  ...    80           1      False\n",
              "3  3      VenusaurMega Venusaur  Grass  ...    80           1      False\n",
              "4  4                 Charmander   Fire  ...    65           1      False\n",
              "5  5                 Charmeleon   Fire  ...    80           1      False\n",
              "6  6                  Charizard   Fire  ...   100           1      False\n",
              "7  6  CharizardMega Charizard X   Fire  ...   100           1      False\n",
              "8  6  CharizardMega Charizard Y   Fire  ...   100           1      False\n",
              "9  7                   Squirtle  Water  ...    43           1      False\n",
              "\n",
              "[10 rows x 13 columns]"
            ]
          },
          "metadata": {
            "tags": []
          },
          "execution_count": 3
        }
      ]
    },
    {
      "cell_type": "markdown",
      "metadata": {
        "id": "ROM2Hy1CCxWG"
      },
      "source": [
        "2.3 - De que se trata esse banco de dados? e que tipo de previsão pode ser feito com ele?\n"
      ]
    },
    {
      "cell_type": "markdown",
      "metadata": {
        "id": "26Zwo6nc6gdd"
      },
      "source": [
        "Este e um banco de dados com todos os pokemons de todas as gerações, contendo seus atributos de batalha. Podemos prever qual o tipo do pokemon (Agua, fogo Terra, etc) baseado apenas nos seus atributos."
      ]
    },
    {
      "cell_type": "markdown",
      "metadata": {
        "id": "1lCf85KKCxWJ"
      },
      "source": [
        "# Questão 3 - valor (0,5)\n"
      ]
    },
    {
      "cell_type": "markdown",
      "metadata": {
        "id": "isyZsq2NCxWK"
      },
      "source": [
        "Utilizando as terminologias de Machine Learning(features e observações):\n",
        "\n"
      ]
    },
    {
      "cell_type": "markdown",
      "metadata": {
        "id": "pbuaWyeECxWL"
      },
      "source": [
        "3.1 - Quantas \"features\" têm nessa base de dados?"
      ]
    },
    {
      "cell_type": "code",
      "metadata": {
        "id": "MY5Xwd0gCxWL"
      },
      "source": [
        "11"
      ],
      "execution_count": null,
      "outputs": []
    },
    {
      "cell_type": "markdown",
      "metadata": {
        "id": "RtwxkASmCxWN"
      },
      "source": [
        "3.2 - Quantas observações têm nessa base de dados?\n"
      ]
    },
    {
      "cell_type": "code",
      "metadata": {
        "id": "yN1QNvh-CxWO"
      },
      "source": [
        "800"
      ],
      "execution_count": null,
      "outputs": []
    },
    {
      "cell_type": "markdown",
      "metadata": {
        "id": "AudYWfr1CxWQ"
      },
      "source": [
        "# Questão 4 - valor (1,0)\n"
      ]
    },
    {
      "cell_type": "markdown",
      "metadata": {
        "id": "pJxRMc1HCxWR"
      },
      "source": [
        "4.1 - Faça uma previsão, usando o algoritmo de LogisticRegression.\n"
      ]
    },
    {
      "cell_type": "code",
      "metadata": {
        "colab": {
          "base_uri": "https://localhost:8080/",
          "height": 204
        },
        "id": "iYG8g38qw8IH",
        "outputId": "a4c80662-5f31-435b-8a1c-35bcac1595c3"
      },
      "source": [
        "# create a Python list of feature names\n",
        "feature_cols = ['HP', 'Attack', 'Defense','Sp. Atk', 'Sp. Def', 'Speed', 'Generation']\n",
        "\n",
        "# use the list to select a subset of the original DataFrame\n",
        "X = df[feature_cols]\n",
        "\n",
        "# print the first 5 rows\n",
        "X.head()"
      ],
      "execution_count": 46,
      "outputs": [
        {
          "output_type": "execute_result",
          "data": {
            "text/html": [
              "<div>\n",
              "<style scoped>\n",
              "    .dataframe tbody tr th:only-of-type {\n",
              "        vertical-align: middle;\n",
              "    }\n",
              "\n",
              "    .dataframe tbody tr th {\n",
              "        vertical-align: top;\n",
              "    }\n",
              "\n",
              "    .dataframe thead th {\n",
              "        text-align: right;\n",
              "    }\n",
              "</style>\n",
              "<table border=\"1\" class=\"dataframe\">\n",
              "  <thead>\n",
              "    <tr style=\"text-align: right;\">\n",
              "      <th></th>\n",
              "      <th>HP</th>\n",
              "      <th>Attack</th>\n",
              "      <th>Defense</th>\n",
              "      <th>Sp. Atk</th>\n",
              "      <th>Sp. Def</th>\n",
              "      <th>Speed</th>\n",
              "      <th>Generation</th>\n",
              "    </tr>\n",
              "  </thead>\n",
              "  <tbody>\n",
              "    <tr>\n",
              "      <th>0</th>\n",
              "      <td>45</td>\n",
              "      <td>49</td>\n",
              "      <td>49</td>\n",
              "      <td>65</td>\n",
              "      <td>65</td>\n",
              "      <td>45</td>\n",
              "      <td>1</td>\n",
              "    </tr>\n",
              "    <tr>\n",
              "      <th>1</th>\n",
              "      <td>60</td>\n",
              "      <td>62</td>\n",
              "      <td>63</td>\n",
              "      <td>80</td>\n",
              "      <td>80</td>\n",
              "      <td>60</td>\n",
              "      <td>1</td>\n",
              "    </tr>\n",
              "    <tr>\n",
              "      <th>2</th>\n",
              "      <td>80</td>\n",
              "      <td>82</td>\n",
              "      <td>83</td>\n",
              "      <td>100</td>\n",
              "      <td>100</td>\n",
              "      <td>80</td>\n",
              "      <td>1</td>\n",
              "    </tr>\n",
              "    <tr>\n",
              "      <th>3</th>\n",
              "      <td>80</td>\n",
              "      <td>100</td>\n",
              "      <td>123</td>\n",
              "      <td>122</td>\n",
              "      <td>120</td>\n",
              "      <td>80</td>\n",
              "      <td>1</td>\n",
              "    </tr>\n",
              "    <tr>\n",
              "      <th>4</th>\n",
              "      <td>39</td>\n",
              "      <td>52</td>\n",
              "      <td>43</td>\n",
              "      <td>60</td>\n",
              "      <td>50</td>\n",
              "      <td>65</td>\n",
              "      <td>1</td>\n",
              "    </tr>\n",
              "  </tbody>\n",
              "</table>\n",
              "</div>"
            ],
            "text/plain": [
              "   HP  Attack  Defense  Sp. Atk  Sp. Def  Speed  Generation\n",
              "0  45      49       49       65       65     45           1\n",
              "1  60      62       63       80       80     60           1\n",
              "2  80      82       83      100      100     80           1\n",
              "3  80     100      123      122      120     80           1\n",
              "4  39      52       43       60       50     65           1"
            ]
          },
          "metadata": {
            "tags": []
          },
          "execution_count": 46
        }
      ]
    },
    {
      "cell_type": "code",
      "metadata": {
        "colab": {
          "base_uri": "https://localhost:8080/"
        },
        "id": "EfZrzSunxXMz",
        "outputId": "612602fd-14b4-4b6d-c84b-575f868387d8"
      },
      "source": [
        "# select a Series from the DataFrame\n",
        "y = df['Type 1']\n",
        "\n",
        "# print the first 5 values\n",
        "y.head()"
      ],
      "execution_count": 13,
      "outputs": [
        {
          "output_type": "execute_result",
          "data": {
            "text/plain": [
              "0    Grass\n",
              "1    Grass\n",
              "2    Grass\n",
              "3    Grass\n",
              "4     Fire\n",
              "Name: Type 1, dtype: object"
            ]
          },
          "metadata": {
            "tags": []
          },
          "execution_count": 13
        }
      ]
    },
    {
      "cell_type": "code",
      "metadata": {
        "colab": {
          "base_uri": "https://localhost:8080/"
        },
        "id": "j86Q1uTvzH5B",
        "outputId": "d22e0d01-4fee-482a-85c5-ba6eac7ca9e4"
      },
      "source": [
        "\n",
        "# import the class\n",
        "from sklearn.linear_model import LogisticRegression\n",
        "\n",
        "# instantiate the model (using the default parameters)\n",
        "logreg = LogisticRegression()\n",
        "\n",
        "# fit the model with data\n",
        "logreg.fit(X, y)\n",
        "\n",
        "# predict the response values for the observations in X\n",
        "\n",
        "logreg.predict([[58,64,58,80,65,80,1]])"
      ],
      "execution_count": 47,
      "outputs": [
        {
          "output_type": "stream",
          "text": [
            "/usr/local/lib/python3.6/dist-packages/sklearn/linear_model/_logistic.py:940: ConvergenceWarning: lbfgs failed to converge (status=1):\n",
            "STOP: TOTAL NO. of ITERATIONS REACHED LIMIT.\n",
            "\n",
            "Increase the number of iterations (max_iter) or scale the data as shown in:\n",
            "    https://scikit-learn.org/stable/modules/preprocessing.html\n",
            "Please also refer to the documentation for alternative solver options:\n",
            "    https://scikit-learn.org/stable/modules/linear_model.html#logistic-regression\n",
            "  extra_warning_msg=_LOGISTIC_SOLVER_CONVERGENCE_MSG)\n"
          ],
          "name": "stderr"
        },
        {
          "output_type": "execute_result",
          "data": {
            "text/plain": [
              "array(['Water'], dtype=object)"
            ]
          },
          "metadata": {
            "tags": []
          },
          "execution_count": 47
        }
      ]
    },
    {
      "cell_type": "markdown",
      "metadata": {
        "id": "owvrxD_k7THV"
      },
      "source": [
        "Aqui é previsto que baseado nos atributos colocados este pokemon pode ser do tipo Agua"
      ]
    },
    {
      "cell_type": "markdown",
      "metadata": {
        "id": "xbpLvAhTCxWU"
      },
      "source": [
        "# Questão 5 - valor (1,5)\n"
      ]
    },
    {
      "cell_type": "markdown",
      "metadata": {
        "id": "cp4fWsL7CxWU"
      },
      "source": [
        "Usando o método de avaliação de acurácia (Treinar e testar na base de dados inteira/Train test entire model), Calcular a acurácia de cada um dos 3 métodos abaixo."
      ]
    },
    {
      "cell_type": "code",
      "metadata": {
        "id": "TsbsM9g21-hf"
      },
      "source": [
        "from sklearn import metrics\n",
        "from sklearn.neighbors import KNeighborsClassifier\n",
        "\n",
        "# STEP 1: split X and y into training and testing sets\n",
        "from sklearn.model_selection import train_test_split\n",
        "X_train, X_test, y_train, y_test = train_test_split(X, y, test_size=0.4, random_state=4)"
      ],
      "execution_count": 49,
      "outputs": []
    },
    {
      "cell_type": "markdown",
      "metadata": {
        "id": "C40t1F9ICxWV"
      },
      "source": [
        "4.1 - Acurácia usando o algoritmo de KNN (com 1 vizinho, k=1)\n"
      ]
    },
    {
      "cell_type": "code",
      "metadata": {
        "id": "3d5YPueDCxWW",
        "colab": {
          "base_uri": "https://localhost:8080/"
        },
        "outputId": "d590d519-8ef9-4ec8-b6ae-0e108c257b8f"
      },
      "source": [
        "knn = KNeighborsClassifier(n_neighbors=1)\n",
        "knn.fit(X, y)\n",
        "y_pred = knn.predict(X)\n",
        "print(metrics.accuracy_score(y, y_pred))"
      ],
      "execution_count": 50,
      "outputs": [
        {
          "output_type": "stream",
          "text": [
            "0.99125\n"
          ],
          "name": "stdout"
        }
      ]
    },
    {
      "cell_type": "markdown",
      "metadata": {
        "id": "mNmy44xfCxWY"
      },
      "source": [
        "4.2 - Acurácia usando o algoritmo de KNN (com 5 vizinho, k=5)\n"
      ]
    },
    {
      "cell_type": "code",
      "metadata": {
        "id": "caGkCtYGCxWY",
        "colab": {
          "base_uri": "https://localhost:8080/"
        },
        "outputId": "b45b92ca-85fd-4da6-ff4b-706b4535a04b"
      },
      "source": [
        "knn = KNeighborsClassifier(n_neighbors=5)\n",
        "knn.fit(X_train, y_train)\n",
        "y_pred = knn.predict(X_test)\n",
        "print(metrics.accuracy_score(y_test, y_pred))"
      ],
      "execution_count": 29,
      "outputs": [
        {
          "output_type": "stream",
          "text": [
            "0.18125\n"
          ],
          "name": "stdout"
        }
      ]
    },
    {
      "cell_type": "markdown",
      "metadata": {
        "id": "3xUZm_JICxWa"
      },
      "source": [
        "4.3 - Acurácia usando o algoritmo de LogisticRegression\n"
      ]
    },
    {
      "cell_type": "code",
      "metadata": {
        "id": "VvAgNcVsCxWb",
        "colab": {
          "base_uri": "https://localhost:8080/"
        },
        "outputId": "bbcfca2a-b8ff-45e2-9c39-7dfc1ee580fd"
      },
      "source": [
        "# import the class\n",
        "from sklearn.linear_model import LogisticRegression\n",
        "\n",
        "# instantiate the model (using the default parameters)\n",
        "logreg = LogisticRegression()\n",
        "\n",
        "# fit the model with data\n",
        "logreg.fit(X, y)\n",
        "\n",
        "# predict the response values for the observations in X\n",
        "logreg.predict(X)"
      ],
      "execution_count": 33,
      "outputs": [
        {
          "output_type": "stream",
          "text": [
            "/usr/local/lib/python3.6/dist-packages/sklearn/linear_model/_logistic.py:940: ConvergenceWarning: lbfgs failed to converge (status=1):\n",
            "STOP: TOTAL NO. of ITERATIONS REACHED LIMIT.\n",
            "\n",
            "Increase the number of iterations (max_iter) or scale the data as shown in:\n",
            "    https://scikit-learn.org/stable/modules/preprocessing.html\n",
            "Please also refer to the documentation for alternative solver options:\n",
            "    https://scikit-learn.org/stable/modules/linear_model.html#logistic-regression\n",
            "  extra_warning_msg=_LOGISTIC_SOLVER_CONVERGENCE_MSG)\n"
          ],
          "name": "stderr"
        },
        {
          "output_type": "execute_result",
          "data": {
            "text/plain": [
              "array(['Water', 'Water', 'Water', 'Water', 'Water', 'Water', 'Water',\n",
              "       'Water', 'Psychic', 'Water', 'Water', 'Water', 'Water', 'Normal',\n",
              "       'Water', 'Psychic', 'Normal', 'Water', 'Normal', 'Normal',\n",
              "       'Normal', 'Normal', 'Normal', 'Water', 'Normal', 'Normal',\n",
              "       'Normal', 'Normal', 'Bug', 'Water', 'Normal', 'Water', 'Ground',\n",
              "       'Ground', 'Water', 'Water', 'Water', 'Normal', 'Water', 'Water',\n",
              "       'Water', 'Water', 'Psychic', 'Water', 'Normal', 'Water', 'Normal',\n",
              "       'Normal', 'Grass', 'Water', 'Water', 'Rock', 'Rock', 'Normal',\n",
              "       'Water', 'Electric', 'Normal', 'Normal', 'Normal', 'Water',\n",
              "       'Water', 'Normal', 'Normal', 'Water', 'Water', 'Normal', 'Normal',\n",
              "       'Water', 'Psychic', 'Psychic', 'Psychic', 'Electric', 'Normal',\n",
              "       'Normal', 'Fighting', 'Fire', 'Water', 'Water', 'Psychic',\n",
              "       'Normal', 'Steel', 'Rock', 'Rock', 'Normal', 'Normal', 'Water',\n",
              "       'Water', 'Water', 'Electric', 'Electric', 'Water', 'Normal',\n",
              "       'Normal', 'Water', 'Water', 'Normal', 'Normal', 'Steel', 'Steel',\n",
              "       'Electric', 'Electric', 'Psychic', 'Electric', 'Steel', 'Normal',\n",
              "       'Water', 'Rock', 'Rock', 'Electric', 'Electric', 'Water', 'Water',\n",
              "       'Water', 'Rock', 'Fighting', 'Bug', 'Water', 'Steel', 'Water',\n",
              "       'Ground', 'Ground', 'Normal', 'Water', 'Normal', 'Normal',\n",
              "       'Electric', 'Water', 'Normal', 'Normal', 'Electric', 'Electric',\n",
              "       'Psychic', 'Normal', 'Psychic', 'Psychic', 'Fire', 'Bug', 'Rock',\n",
              "       'Normal', 'Normal', 'Normal', 'Fighting', 'Water', 'Water',\n",
              "       'Normal', 'Water', 'Psychic', 'Dragon', 'Water', 'Ghost', 'Water',\n",
              "       'Steel', 'Rock', 'Normal', 'Normal', 'Normal', 'Water', 'Water',\n",
              "       'Water', 'Water', 'Water', 'Water', 'Water', 'Dragon', 'Psychic',\n",
              "       'Water', 'Water', 'Water', 'Water', 'Electric', 'Water', 'Water',\n",
              "       'Water', 'Water', 'Water', 'Dragon', 'Normal', 'Normal', 'Normal',\n",
              "       'Psychic', 'Normal', 'Dragon', 'Water', 'Normal', 'Normal',\n",
              "       'Normal', 'Normal', 'Fairy', 'Normal', 'Water', 'Psychic',\n",
              "       'Electric', 'Water', 'Water', 'Water', 'Water', 'Grass', 'Water',\n",
              "       'Normal', 'Water', 'Rock', 'Water', 'Normal', 'Normal', 'Normal',\n",
              "       'Normal', 'Water', 'Fairy', 'Water', 'Water', 'Water', 'Psychic',\n",
              "       'Water', 'Fire', 'Fairy', 'Psychic', 'Fire', 'Normal', 'Water',\n",
              "       'Rock', 'Steel', 'Water', 'Bug', 'Steel', 'Steel', 'Fighting',\n",
              "       'Ground', 'Normal', 'Rock', 'Rock', 'Steel', 'Normal', 'Fighting',\n",
              "       'Normal', 'Water', 'Dragon', 'Grass', 'Steel', 'Normal', 'Water',\n",
              "       'Water', 'Fire', 'Grass', 'Water', 'Psychic', 'Bug', 'Psychic',\n",
              "       'Psychic', 'Electric', 'Water', 'Normal', 'Ground', 'Water',\n",
              "       'Water', 'Normal', 'Water', 'Bug', 'Psychic', 'Normal', 'Fire',\n",
              "       'Normal', 'Normal', 'Water', 'Normal', 'Water', 'Water', 'Water',\n",
              "       'Water', 'Rock', 'Water', 'Dragon', 'Water', 'Psychic', 'Electric',\n",
              "       'Electric', 'Electric', 'Fire', 'Fire', 'Fire', 'Dragon', 'Water',\n",
              "       'Water', 'Water', 'Dragon', 'Bug', 'Normal', 'Normal', 'Normal',\n",
              "       'Normal', 'Water', 'Fire', 'Water', 'Normal', 'Psychic', 'Water',\n",
              "       'Water', 'Water', 'Normal', 'Water', 'Normal', 'Normal',\n",
              "       'Electric', 'Water', 'Psychic', 'Psychic', 'Psychic', 'Psychic',\n",
              "       'Psychic', 'Water', 'Water', 'Rock', 'Water', 'Normal', 'Normal',\n",
              "       'Steel', 'Normal', 'Rock', 'Water', 'Water', 'Water', 'Normal',\n",
              "       'Normal', 'Normal', 'Steel', 'Normal', 'Normal', 'Water', 'Rock',\n",
              "       'Rock', 'Rock', 'Steel', 'Steel', 'Steel', 'Steel', 'Bug', 'Water',\n",
              "       'Bug', 'Electric', 'Water', 'Electric', 'Psychic', 'Psychic',\n",
              "       'Normal', 'Water', 'Psychic', 'Water', 'Water', 'Fire', 'Fire',\n",
              "       'Fire', 'Normal', 'Normal', 'Water', 'Grass', 'Grass', 'Steel',\n",
              "       'Psychic', 'Psychic', 'Water', 'Rock', 'Normal', 'Normal', 'Fire',\n",
              "       'Fire', 'Bug', 'Water', 'Water', 'Normal', 'Fire', 'Psychic',\n",
              "       'Bug', 'Normal', 'Water', 'Rock', 'Rock', 'Bug', 'Bug', 'Water',\n",
              "       'Water', 'Normal', 'Rock', 'Normal', 'Psychic', 'Water', 'Dragon',\n",
              "       'Fire', 'Dragon', 'Dragon', 'Rock', 'Rock', 'Water', 'Psychic',\n",
              "       'Dragon', 'Dragon', 'Normal', 'Water', 'Water', 'Fire', 'Water',\n",
              "       'Water', 'Water', 'Steel', 'Rock', 'Grass', 'Ground', 'Normal',\n",
              "       'Ground', 'Rock', 'Water', 'Water', 'Rock', 'Bug', 'Rock', 'Rock',\n",
              "       'Steel', 'Fairy', 'Water', 'Psychic', 'Psychic', 'Psychic',\n",
              "       'Psychic', 'Psychic', 'Psychic', 'Water', 'Rock', 'Fire', 'Fire',\n",
              "       'Water', 'Electric', 'Fire', 'Bug', 'Electric', 'Rock', 'Water',\n",
              "       'Water', 'Water', 'Water', 'Water', 'Grass', 'Grass', 'Water',\n",
              "       'Normal', 'Normal', 'Normal', 'Normal', 'Normal', 'Bug', 'Normal',\n",
              "       'Normal', 'Normal', 'Dragon', 'Psychic', 'Psychic', 'Fighting',\n",
              "       'Fighting', 'Steel', 'Steel', 'Normal', 'Grass', 'Rock', 'Grass',\n",
              "       'Fire', 'Normal', 'Grass', 'Normal', 'Normal', 'Normal', 'Psychic',\n",
              "       'Water', 'Water', 'Water', 'Normal', 'Normal', 'Normal', 'Normal',\n",
              "       'Normal', 'Bug', 'Psychic', 'Fire', 'Normal', 'Normal', 'Psychic',\n",
              "       'Normal', 'Normal', 'Bug', 'Rock', 'Rock', 'Psychic', 'Normal',\n",
              "       'Water', 'Rock', 'Normal', 'Normal', 'Normal', 'Water', 'Normal',\n",
              "       'Normal', 'Fire', 'Fire', 'Ground', 'Water', 'Bug', 'Bug', 'Grass',\n",
              "       'Water', 'Grass', 'Normal', 'Normal', 'Psychic', 'Grass', 'Water',\n",
              "       'Grass', 'Normal', 'Grass', 'Water', 'Ground', 'Water', 'Dragon',\n",
              "       'Psychic', 'Psychic', 'Water', 'Bug', 'Grass', 'Bug', 'Normal',\n",
              "       'Psychic', 'Fighting', 'Fighting', 'Bug', 'Rock', 'Normal',\n",
              "       'Electric', 'Electric', 'Electric', 'Electric', 'Electric',\n",
              "       'Electric', 'Bug', 'Water', 'Fire', 'Water', 'Psychic', 'Water',\n",
              "       'Normal', 'Water', 'Water', 'Water', 'Water', 'Water', 'Electric',\n",
              "       'Water', 'Water', 'Water', 'Water', 'Bug', 'Bug', 'Normal',\n",
              "       'Normal', 'Normal', 'Water', 'Grass', 'Water', 'Water', 'Normal',\n",
              "       'Bug', 'Normal', 'Normal', 'Normal', 'Normal', 'Normal', 'Normal',\n",
              "       'Water', 'Normal', 'Water', 'Normal', 'Water', 'Fairy', 'Fairy',\n",
              "       'Normal', 'Normal', 'Normal', 'Normal', 'Normal', 'Ground', 'Rock',\n",
              "       'Rock', 'Normal', 'Normal', 'Normal', 'Normal', 'Water', 'Water',\n",
              "       'Normal', 'Ground', 'Ground', 'Normal', 'Normal', 'Water',\n",
              "       'Normal', 'Normal', 'Bug', 'Bug', 'Normal', 'Bug', 'Bug', 'Bug',\n",
              "       'Bug', 'Electric', 'Grass', 'Psychic', 'Normal', 'Normal',\n",
              "       'Normal', 'Normal', 'Normal', 'Normal', 'Psychic', 'Grass', 'Bug',\n",
              "       'Rock', 'Bug', 'Bug', 'Water', 'Ghost', 'Ghost', 'Steel', 'Rock',\n",
              "       'Dragon', 'Fire', 'Bug', 'Normal', 'Electric', 'Electric',\n",
              "       'Normal', 'Normal', 'Psychic', 'Psychic', 'Psychic', 'Psychic',\n",
              "       'Psychic', 'Fairy', 'Normal', 'Water', 'Grass', 'Grass', 'Grass',\n",
              "       'Normal', 'Normal', 'Electric', 'Normal', 'Rock', 'Grass', 'Water',\n",
              "       'Psychic', 'Water', 'Normal', 'Water', 'Electric', 'Rock', 'Rock',\n",
              "       'Rock', 'Rock', 'Bug', 'Bug', 'Grass', 'Grass', 'Grass', 'Psychic',\n",
              "       'Grass', 'Psychic', 'Psychic', 'Bug', 'Fighting', 'Fighting',\n",
              "       'Grass', 'Normal', 'Psychic', 'Bug', 'Normal', 'Water', 'Bug',\n",
              "       'Dark', 'Rock', 'Normal', 'Fighting', 'Bug', 'Rock', 'Normal',\n",
              "       'Normal', 'Normal', 'Normal', 'Normal', 'Grass', 'Bug', 'Bug',\n",
              "       'Water', 'Water', 'Bug', 'Psychic', 'Water', 'Normal', 'Normal',\n",
              "       'Fire', 'Water', 'Fire', 'Psychic', 'Grass', 'Water', 'Water',\n",
              "       'Dragon', 'Water', 'Water', 'Water', 'Water', 'Water', 'Psychic',\n",
              "       'Normal', 'Fire', 'Grass', 'Bug', 'Water', 'Psychic', 'Psychic',\n",
              "       'Psychic', 'Electric', 'Electric', 'Electric', 'Normal', 'Normal',\n",
              "       'Normal', 'Normal', 'Normal', 'Bug', 'Water', 'Water', 'Water',\n",
              "       'Water', 'Psychic', 'Psychic', 'Psychic', 'Grass', 'Normal',\n",
              "       'Normal', 'Fighting', 'Normal', 'Normal', 'Water', 'Water',\n",
              "       'Steel', 'Steel', 'Fire', 'Bug', 'Grass', 'Fairy', 'Water',\n",
              "       'Water', 'Normal', 'Normal', 'Bug', 'Bug', 'Grass', 'Grass',\n",
              "       'Grass', 'Grass', 'Psychic', 'Psychic', 'Rock', 'Rock', 'Grass',\n",
              "       'Water', 'Psychic', 'Normal', 'Psychic', 'Bug', 'Psychic',\n",
              "       'Psychic', 'Psychic', 'Bug', 'Bug', 'Normal', 'Bug', 'Bug', 'Bug',\n",
              "       'Bug', 'Bug', 'Bug', 'Bug', 'Rock', 'Rock', 'Steel', 'Normal',\n",
              "       'Water', 'Water', 'Water', 'Water', 'Rock', 'Electric', 'Psychic',\n",
              "       'Dragon', 'Grass'], dtype=object)"
            ]
          },
          "metadata": {
            "tags": []
          },
          "execution_count": 33
        }
      ]
    },
    {
      "cell_type": "code",
      "metadata": {
        "colab": {
          "base_uri": "https://localhost:8080/"
        },
        "id": "PtmXVV_d14Hl",
        "outputId": "ca90cef6-2a31-4b12-b5c9-b8e21d64fd51"
      },
      "source": [
        "\n",
        "# store the predicted response values\n",
        "y_pred = logreg.predict(X)\n",
        "\n",
        "# check how many predictions were generated\n",
        "len(y_pred)\n",
        "\n",
        "print(metrics.accuracy_score(y, y_pred))"
      ],
      "execution_count": 35,
      "outputs": [
        {
          "output_type": "stream",
          "text": [
            "0.26\n"
          ],
          "name": "stdout"
        }
      ]
    },
    {
      "cell_type": "markdown",
      "metadata": {
        "id": "8FkyIUHbCxWd"
      },
      "source": [
        "4.4 - De acordo com seus resultados anteriores, qual dos 3 métodos é mais eficiente?\n"
      ]
    },
    {
      "cell_type": "code",
      "metadata": {
        "id": "K0AE8XQ1CxWd"
      },
      "source": [
        "De acordo com o teste anterior o melhor é o metodo KNN 1 "
      ],
      "execution_count": null,
      "outputs": []
    },
    {
      "cell_type": "code",
      "metadata": {
        "id": "zRDUIRloCxWf"
      },
      "source": [
        "*** Envie o link do seu Github com essa resposta no Classroom\n"
      ],
      "execution_count": null,
      "outputs": []
    }
  ]
}